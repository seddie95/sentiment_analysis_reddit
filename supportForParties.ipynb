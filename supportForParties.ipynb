{
 "cells": [
  {
   "cell_type": "code",
   "execution_count": 1,
   "metadata": {},
   "outputs": [
    {
     "name": "stderr",
     "output_type": "stream",
     "text": [
      "C:\\Users\\sed\\anaconda3\\envs\\nlp_course\\lib\\site-packages\\nltk\\twitter\\__init__.py:20: UserWarning: The twython library has not been installed. Some functionality from the twitter package will not be available.\n",
      "  warnings.warn(\"The twython library has not been installed. \"\n"
     ]
    }
   ],
   "source": [
    "import pandas as pd\n",
    "import praw\n",
    "from praw.models import MoreComments\n",
    "import nltk\n",
    "from nltk.sentiment.vader import SentimentIntensityAnalyzer\n",
    "import matplotlib.pyplot as plt\n",
    "from sklearn.feature_extraction.text import CountVectorizer\n",
    "from sklearn.decomposition import LatentDirichletAllocation\n",
    "from collections import defaultdict\n",
    "import spacy\n",
    "import string\n",
    "import re"
   ]
  },
  {
   "cell_type": "code",
   "execution_count": 2,
   "metadata": {},
   "outputs": [],
   "source": [
    "ci = \"TTvdII1Rg7IzUg\" # your client id\n",
    "cs = \"ZBH4sSqYdiRxZZR9h4IosSbAc1K8-Q\" #your client secret\n",
    "ua = \"gibberish\" #your user agent name\n",
    "sub = \"ireland\" #the name of the subreddit (not including the 'r/')"
   ]
  },
  {
   "cell_type": "code",
   "execution_count": 3,
   "metadata": {},
   "outputs": [],
   "source": [
    "# Scrape reddit for text content\n",
    "reddit = praw.Reddit(\n",
    "    client_id=ci,\n",
    "    client_secret=cs,\n",
    "    user_agent=ua\n",
    ")\n",
    "\n",
    "\n",
    "def scrape_comment_data(reddit,topic,limit=50): \n",
    "    \n",
    "    title_dict = defaultdict(list)\n",
    "    \n",
    "    for post in reddit.subreddit(sub).search(topic, limit=limit): \n",
    "        if not post.stickied:\n",
    "            title_dict[\"title\"].append(post.title)\n",
    "            title_dict[\"time\"].append(int(post.created))\n",
    "            \n",
    "            if len(post.selftext) ==0:\n",
    "                title_dict[\"content\"].append(\"null\")\n",
    "            else:\n",
    "                title_dict[\"content\"].append(post.selftext)\n",
    "\n",
    "            #this section collects the comments\n",
    "            comments =\"\"\n",
    "            for comment in post.comments:\n",
    "                if isinstance(comment, MoreComments):\n",
    "                    continue\n",
    "                comments+= comment.body\n",
    "            title_dict[\"comments\"].append(comments)\n",
    "            \n",
    "\n",
    "    return title_dict "
   ]
  },
  {
   "cell_type": "code",
   "execution_count": 4,
   "metadata": {},
   "outputs": [
    {
     "name": "stdout",
     "output_type": "stream",
     "text": [
      "[nltk_data] Downloading package vader_lexicon to\n",
      "[nltk_data]     C:\\Users\\sed\\AppData\\Roaming\\nltk_data...\n",
      "[nltk_data]   Package vader_lexicon is already up-to-date!\n"
     ]
    }
   ],
   "source": [
    "nlp = spacy.load('en')\n",
    "nltk.download('vader_lexicon')\n",
    "sentimentAnlyser = SentimentIntensityAnalyzer()"
   ]
  },
  {
   "cell_type": "code",
   "execution_count": 5,
   "metadata": {},
   "outputs": [],
   "source": [
    "eu_dict = scrape_comment_data(reddit,\"EU\",limit=100)"
   ]
  },
  {
   "cell_type": "code",
   "execution_count": 6,
   "metadata": {},
   "outputs": [
    {
     "data": {
      "text/html": [
       "<div>\n",
       "<style scoped>\n",
       "    .dataframe tbody tr th:only-of-type {\n",
       "        vertical-align: middle;\n",
       "    }\n",
       "\n",
       "    .dataframe tbody tr th {\n",
       "        vertical-align: top;\n",
       "    }\n",
       "\n",
       "    .dataframe thead th {\n",
       "        text-align: right;\n",
       "    }\n",
       "</style>\n",
       "<table border=\"1\" class=\"dataframe\">\n",
       "  <thead>\n",
       "    <tr style=\"text-align: right;\">\n",
       "      <th></th>\n",
       "      <th>title</th>\n",
       "      <th>time</th>\n",
       "      <th>content</th>\n",
       "      <th>comments</th>\n",
       "    </tr>\n",
       "  </thead>\n",
       "  <tbody>\n",
       "    <tr>\n",
       "      <th>0</th>\n",
       "      <td>Exclusive: AstraZeneca to miss second-quarter ...</td>\n",
       "      <td>1614133886</td>\n",
       "      <td>null</td>\n",
       "      <td>Did they not say back in January that they had...</td>\n",
       "    </tr>\n",
       "    <tr>\n",
       "      <th>1</th>\n",
       "      <td>It’s official: Ireland’s economy is the only e...</td>\n",
       "      <td>1613178978</td>\n",
       "      <td>null</td>\n",
       "      <td>[deleted]er... how?Before I click on this link...</td>\n",
       "    </tr>\n",
       "    <tr>\n",
       "      <th>2</th>\n",
       "      <td>Brexit: EU introduces controls on vaccines to NI</td>\n",
       "      <td>1611973091</td>\n",
       "      <td>null</td>\n",
       "      <td>Is this even allowed under the protocol? It st...</td>\n",
       "    </tr>\n",
       "    <tr>\n",
       "      <th>3</th>\n",
       "      <td>Johnson &amp; Johnson applies for authorisation fo...</td>\n",
       "      <td>1613519499</td>\n",
       "      <td>null</td>\n",
       "      <td>We can expect approval by the second week of M...</td>\n",
       "    </tr>\n",
       "    <tr>\n",
       "      <th>4</th>\n",
       "      <td>Send surplus jabs to the Republic of Ireland t...</td>\n",
       "      <td>1612079754</td>\n",
       "      <td>null</td>\n",
       "      <td>Arlene suggested helping the Republic of Irela...</td>\n",
       "    </tr>\n",
       "  </tbody>\n",
       "</table>\n",
       "</div>"
      ],
      "text/plain": [
       "                                               title        time content  \\\n",
       "0  Exclusive: AstraZeneca to miss second-quarter ...  1614133886    null   \n",
       "1  It’s official: Ireland’s economy is the only e...  1613178978    null   \n",
       "2   Brexit: EU introduces controls on vaccines to NI  1611973091    null   \n",
       "3  Johnson & Johnson applies for authorisation fo...  1613519499    null   \n",
       "4  Send surplus jabs to the Republic of Ireland t...  1612079754    null   \n",
       "\n",
       "                                            comments  \n",
       "0  Did they not say back in January that they had...  \n",
       "1  [deleted]er... how?Before I click on this link...  \n",
       "2  Is this even allowed under the protocol? It st...  \n",
       "3  We can expect approval by the second week of M...  \n",
       "4  Arlene suggested helping the Republic of Irela...  "
      ]
     },
     "execution_count": 6,
     "metadata": {},
     "output_type": "execute_result"
    }
   ],
   "source": [
    "eu_df = pd.DataFrame.from_dict(eu_dict)\n",
    "eu_df.to_csv('data/eu_uncleaned.csv')\n",
    "eu_df.head()"
   ]
  },
  {
   "cell_type": "markdown",
   "metadata": {},
   "source": [
    "### Preprocess text"
   ]
  },
  {
   "cell_type": "code",
   "execution_count": 7,
   "metadata": {},
   "outputs": [],
   "source": [
    "def remove_stops(text):\n",
    "    \"\"\"Function to remove most common stop words from text\"\"\"\n",
    "    my_doc = nlp(text)\n",
    "\n",
    "    # create list of token words\n",
    "    token_list= [token.text for token in my_doc]\n",
    "\n",
    "    # return list of word tokens after removing stopwords\n",
    "    return [word for word in token_list if nlp.vocab[word].is_stop == False]"
   ]
  },
  {
   "cell_type": "code",
   "execution_count": 8,
   "metadata": {},
   "outputs": [],
   "source": [
    "eu_df['comments_no_stops'] = eu_df['comments'].apply(lambda text:\" \".join(remove_stops(text)))\n",
    "eu_df[\"comments_lemmatized\"] = eu_df['comments_no_stops'].apply(lambda x: \" \".join([y.lemma_ for y in nlp(x)]))"
   ]
  },
  {
   "cell_type": "markdown",
   "metadata": {},
   "source": [
    "### Apply Sentiment analysis on individual sentences"
   ]
  },
  {
   "cell_type": "code",
   "execution_count": 9,
   "metadata": {},
   "outputs": [],
   "source": [
    "def positivity(text,item):\n",
    "    item_list = re.findall(f'[^.?!]* {item} [^.]*[.!?]',text)\n",
    "    positivity =0\n",
    "    count = len(item_list)\n",
    "    \n",
    "    for i in item_list:\n",
    "        sent = sentimentAnlyser.polarity_scores(i)['compound']\n",
    "        positivity+= sent\n",
    "\n",
    "    if count >0:\n",
    "        return positivity/count\n",
    "    "
   ]
  },
  {
   "cell_type": "code",
   "execution_count": 10,
   "metadata": {},
   "outputs": [],
   "source": [
    "# Scores for EU\n",
    "eu_df['eu_scores'] = eu_df['comments_lemmatized'].apply(lambda comments: positivity(comments,\"eu\"))\n",
    "eu_df['eu_scores'] = eu_df['eu_scores'].apply(lambda score: (score+1)/2)"
   ]
  },
  {
   "cell_type": "code",
   "execution_count": 11,
   "metadata": {},
   "outputs": [
    {
     "data": {
      "text/html": [
       "<div>\n",
       "<style scoped>\n",
       "    .dataframe tbody tr th:only-of-type {\n",
       "        vertical-align: middle;\n",
       "    }\n",
       "\n",
       "    .dataframe tbody tr th {\n",
       "        vertical-align: top;\n",
       "    }\n",
       "\n",
       "    .dataframe thead th {\n",
       "        text-align: right;\n",
       "    }\n",
       "</style>\n",
       "<table border=\"1\" class=\"dataframe\">\n",
       "  <thead>\n",
       "    <tr style=\"text-align: right;\">\n",
       "      <th></th>\n",
       "      <th>title</th>\n",
       "      <th>time</th>\n",
       "      <th>content</th>\n",
       "      <th>comments</th>\n",
       "      <th>comments_no_stops</th>\n",
       "      <th>comments_lemmatized</th>\n",
       "      <th>eu_scores</th>\n",
       "    </tr>\n",
       "  </thead>\n",
       "  <tbody>\n",
       "    <tr>\n",
       "      <th>0</th>\n",
       "      <td>Exclusive: AstraZeneca to miss second-quarter ...</td>\n",
       "      <td>1614133886</td>\n",
       "      <td>null</td>\n",
       "      <td>Did they not say back in January that they had...</td>\n",
       "      <td>Did January \" resolved \" issues production sch...</td>\n",
       "      <td>do january \" resolve \" issue production schedu...</td>\n",
       "      <td>0.374625</td>\n",
       "    </tr>\n",
       "    <tr>\n",
       "      <th>1</th>\n",
       "      <td>It’s official: Ireland’s economy is the only e...</td>\n",
       "      <td>1613178978</td>\n",
       "      <td>null</td>\n",
       "      <td>[deleted]er... how?Before I click on this link...</td>\n",
       "      <td>[ deleted]er ... how?Before I click link , I '...</td>\n",
       "      <td>[ deleted]er ... how?before -PRON- click link ...</td>\n",
       "      <td>0.811629</td>\n",
       "    </tr>\n",
       "    <tr>\n",
       "      <th>2</th>\n",
       "      <td>Brexit: EU introduces controls on vaccines to NI</td>\n",
       "      <td>1611973091</td>\n",
       "      <td>null</td>\n",
       "      <td>Is this even allowed under the protocol? It st...</td>\n",
       "      <td>Is allowed protocol ? It states notify U.K. mo...</td>\n",
       "      <td>be allow protocol ? -PRON- state notify u.k. m...</td>\n",
       "      <td>0.379245</td>\n",
       "    </tr>\n",
       "    <tr>\n",
       "      <th>3</th>\n",
       "      <td>Johnson &amp; Johnson applies for authorisation fo...</td>\n",
       "      <td>1613519499</td>\n",
       "      <td>null</td>\n",
       "      <td>We can expect approval by the second week of M...</td>\n",
       "      <td>We expect approval second week March , 've got...</td>\n",
       "      <td>-PRON- expect approval second week march , ' v...</td>\n",
       "      <td>NaN</td>\n",
       "    </tr>\n",
       "    <tr>\n",
       "      <th>4</th>\n",
       "      <td>Send surplus jabs to the Republic of Ireland t...</td>\n",
       "      <td>1612079754</td>\n",
       "      <td>null</td>\n",
       "      <td>Arlene suggested helping the Republic of Irela...</td>\n",
       "      <td>Arlene suggested helping Republic Ireland , ch...</td>\n",
       "      <td>arlene suggest help republic ireland , check h...</td>\n",
       "      <td>0.558875</td>\n",
       "    </tr>\n",
       "  </tbody>\n",
       "</table>\n",
       "</div>"
      ],
      "text/plain": [
       "                                               title        time content  \\\n",
       "0  Exclusive: AstraZeneca to miss second-quarter ...  1614133886    null   \n",
       "1  It’s official: Ireland’s economy is the only e...  1613178978    null   \n",
       "2   Brexit: EU introduces controls on vaccines to NI  1611973091    null   \n",
       "3  Johnson & Johnson applies for authorisation fo...  1613519499    null   \n",
       "4  Send surplus jabs to the Republic of Ireland t...  1612079754    null   \n",
       "\n",
       "                                            comments  \\\n",
       "0  Did they not say back in January that they had...   \n",
       "1  [deleted]er... how?Before I click on this link...   \n",
       "2  Is this even allowed under the protocol? It st...   \n",
       "3  We can expect approval by the second week of M...   \n",
       "4  Arlene suggested helping the Republic of Irela...   \n",
       "\n",
       "                                   comments_no_stops  \\\n",
       "0  Did January \" resolved \" issues production sch...   \n",
       "1  [ deleted]er ... how?Before I click link , I '...   \n",
       "2  Is allowed protocol ? It states notify U.K. mo...   \n",
       "3  We expect approval second week March , 've got...   \n",
       "4  Arlene suggested helping Republic Ireland , ch...   \n",
       "\n",
       "                                 comments_lemmatized  eu_scores  \n",
       "0  do january \" resolve \" issue production schedu...   0.374625  \n",
       "1  [ deleted]er ... how?before -PRON- click link ...   0.811629  \n",
       "2  be allow protocol ? -PRON- state notify u.k. m...   0.379245  \n",
       "3  -PRON- expect approval second week march , ' v...        NaN  \n",
       "4  arlene suggest help republic ireland , check h...   0.558875  "
      ]
     },
     "execution_count": 11,
     "metadata": {},
     "output_type": "execute_result"
    }
   ],
   "source": [
    "eu_df.to_csv('data/eu_cleaned.csv')\n",
    "eu_df.head()"
   ]
  },
  {
   "cell_type": "code",
   "execution_count": 12,
   "metadata": {},
   "outputs": [
    {
     "data": {
      "text/plain": [
       "0.5253734194378763"
      ]
     },
     "execution_count": 12,
     "metadata": {},
     "output_type": "execute_result"
    }
   ],
   "source": [
    "eu_df['eu_scores'].mean()"
   ]
  },
  {
   "cell_type": "code",
   "execution_count": 13,
   "metadata": {},
   "outputs": [],
   "source": [
    "uk_dict = scrape_comment_data(reddit,\"Brexit\",limit=100)"
   ]
  },
  {
   "cell_type": "code",
   "execution_count": 38,
   "metadata": {},
   "outputs": [],
   "source": [
    "uk_df = pd.DataFrame.from_dict(uk_dict)\n",
    "uk_df['comments_no_stops'] = uk_df['comments'].apply(lambda text:\" \".join(remove_stops(text)))\n",
    "uk_df[\"comments_lemmatized\"] = uk_df['comments_no_stops'].apply(lambda x: \" \".join([y.lemma_ for y in nlp(x)]))\n",
    "uk_df['uk_scores'] = uk_df['comments_lemmatized'].apply(lambda comments: positivity(comments,\"brexit\"))\n",
    "uk_df['uk_scores'] = uk_df['uk_scores'].apply(lambda score: (score+1)/2)"
   ]
  },
  {
   "cell_type": "code",
   "execution_count": 39,
   "metadata": {},
   "outputs": [
    {
     "data": {
      "text/html": [
       "<div>\n",
       "<style scoped>\n",
       "    .dataframe tbody tr th:only-of-type {\n",
       "        vertical-align: middle;\n",
       "    }\n",
       "\n",
       "    .dataframe tbody tr th {\n",
       "        vertical-align: top;\n",
       "    }\n",
       "\n",
       "    .dataframe thead th {\n",
       "        text-align: right;\n",
       "    }\n",
       "</style>\n",
       "<table border=\"1\" class=\"dataframe\">\n",
       "  <thead>\n",
       "    <tr style=\"text-align: right;\">\n",
       "      <th></th>\n",
       "      <th>title</th>\n",
       "      <th>time</th>\n",
       "      <th>content</th>\n",
       "      <th>comments</th>\n",
       "      <th>comments_no_stops</th>\n",
       "      <th>comments_lemmatized</th>\n",
       "      <th>uk_scores</th>\n",
       "    </tr>\n",
       "  </thead>\n",
       "  <tbody>\n",
       "    <tr>\n",
       "      <th>0</th>\n",
       "      <td>When you have to think about the U.K. because ...</td>\n",
       "      <td>1611607974</td>\n",
       "      <td>null</td>\n",
       "      <td>I ordered off an Irish online tech site on Jan...</td>\n",
       "      <td>I ordered Irish online tech site Jan 3rd , wai...</td>\n",
       "      <td>-PRON- order irish online tech site jan 3rd , ...</td>\n",
       "      <td>0.327600</td>\n",
       "    </tr>\n",
       "    <tr>\n",
       "      <th>1</th>\n",
       "      <td>Brexit: EU introduces controls on vaccines to NI</td>\n",
       "      <td>1611973091</td>\n",
       "      <td>null</td>\n",
       "      <td>Is this even allowed under the protocol? It st...</td>\n",
       "      <td>Is allowed protocol ? It states notify U.K. mo...</td>\n",
       "      <td>be allow protocol ? -PRON- state notify u.k. m...</td>\n",
       "      <td>0.427090</td>\n",
       "    </tr>\n",
       "    <tr>\n",
       "      <th>2</th>\n",
       "      <td>Brexit: Irish suppliers called in to save baco...</td>\n",
       "      <td>1612971632</td>\n",
       "      <td>null</td>\n",
       "      <td>Another Brexit benefit. Lol.Expat? That's an a...</td>\n",
       "      <td>Another Brexit benefit . Lol . Expat ? That 's...</td>\n",
       "      <td>another brexit benefit . lol . expat ? that be...</td>\n",
       "      <td>0.769425</td>\n",
       "    </tr>\n",
       "    <tr>\n",
       "      <th>3</th>\n",
       "      <td>DUP members threaten to bring down Northern Ir...</td>\n",
       "      <td>1613311923</td>\n",
       "      <td>null</td>\n",
       "      <td>IIRC last time they did this London forced thr...</td>\n",
       "      <td>IIRC time London forced gay marriage abortion ...</td>\n",
       "      <td>iirc time london force gay marriage abortion ....</td>\n",
       "      <td>0.261650</td>\n",
       "    </tr>\n",
       "    <tr>\n",
       "      <th>4</th>\n",
       "      <td>Mary Lou McDonald says Brexiteers must accept ...</td>\n",
       "      <td>1612746059</td>\n",
       "      <td>null</td>\n",
       "      <td>**DUP:** Advocates a hard Brexit and borders b...</td>\n",
       "      <td>* * DUP : * * Advocates hard Brexit borders UK...</td>\n",
       "      <td>* * dup : * * advocate hard brexit border uk e...</td>\n",
       "      <td>0.598520</td>\n",
       "    </tr>\n",
       "  </tbody>\n",
       "</table>\n",
       "</div>"
      ],
      "text/plain": [
       "                                               title        time content  \\\n",
       "0  When you have to think about the U.K. because ...  1611607974    null   \n",
       "1   Brexit: EU introduces controls on vaccines to NI  1611973091    null   \n",
       "2  Brexit: Irish suppliers called in to save baco...  1612971632    null   \n",
       "3  DUP members threaten to bring down Northern Ir...  1613311923    null   \n",
       "4  Mary Lou McDonald says Brexiteers must accept ...  1612746059    null   \n",
       "\n",
       "                                            comments  \\\n",
       "0  I ordered off an Irish online tech site on Jan...   \n",
       "1  Is this even allowed under the protocol? It st...   \n",
       "2  Another Brexit benefit. Lol.Expat? That's an a...   \n",
       "3  IIRC last time they did this London forced thr...   \n",
       "4  **DUP:** Advocates a hard Brexit and borders b...   \n",
       "\n",
       "                                   comments_no_stops  \\\n",
       "0  I ordered Irish online tech site Jan 3rd , wai...   \n",
       "1  Is allowed protocol ? It states notify U.K. mo...   \n",
       "2  Another Brexit benefit . Lol . Expat ? That 's...   \n",
       "3  IIRC time London forced gay marriage abortion ...   \n",
       "4  * * DUP : * * Advocates hard Brexit borders UK...   \n",
       "\n",
       "                                 comments_lemmatized  uk_scores  \n",
       "0  -PRON- order irish online tech site jan 3rd , ...   0.327600  \n",
       "1  be allow protocol ? -PRON- state notify u.k. m...   0.427090  \n",
       "2  another brexit benefit . lol . expat ? that be...   0.769425  \n",
       "3  iirc time london force gay marriage abortion ....   0.261650  \n",
       "4  * * dup : * * advocate hard brexit border uk e...   0.598520  "
      ]
     },
     "execution_count": 39,
     "metadata": {},
     "output_type": "execute_result"
    }
   ],
   "source": [
    "uk_df.head()"
   ]
  },
  {
   "cell_type": "code",
   "execution_count": 40,
   "metadata": {},
   "outputs": [
    {
     "data": {
      "text/plain": [
       "0.5142611904761905"
      ]
     },
     "execution_count": 40,
     "metadata": {},
     "output_type": "execute_result"
    }
   ],
   "source": [
    "uk_df['uk_scores'].mean()"
   ]
  },
  {
   "cell_type": "code",
   "execution_count": 44,
   "metadata": {},
   "outputs": [],
   "source": [
    "count =0\n",
    "positivity_sum = 0\n",
    "\n",
    "for x in uk_df.content:\n",
    "    if x != 'null':\n",
    "        sent =sentimentAnlyser.polarity_scores(x)['compound']\n",
    "        count+=1\n",
    "        positivity_sum+= sent\n",
    "        \n",
    "sentiment = positivity_sum/count"
   ]
  },
  {
   "cell_type": "code",
   "execution_count": 45,
   "metadata": {},
   "outputs": [],
   "source": [
    "def sentiment_check(content):\n",
    "    count =0\n",
    "    positivity_sum = 0\n",
    "\n",
    "    for x in content:\n",
    "        if x != 'null':\n",
    "            sent =sentimentAnlyser.polarity_scores(x)['compound']\n",
    "            count+=1\n",
    "            positivity_sum+= sent\n",
    "\n",
    "    score = positivity_sum/count\n",
    "    return (score+1)/2"
   ]
  },
  {
   "cell_type": "code",
   "execution_count": 46,
   "metadata": {},
   "outputs": [
    {
     "data": {
      "text/plain": [
       "0.6038979999999999"
      ]
     },
     "execution_count": 46,
     "metadata": {},
     "output_type": "execute_result"
    }
   ],
   "source": [
    "\n",
    "# Sentiment check for eu content\n",
    "sentiment_check(eu_df.content)\n"
   ]
  },
  {
   "cell_type": "code",
   "execution_count": 47,
   "metadata": {},
   "outputs": [
    {
     "data": {
      "text/plain": [
       "0.52845"
      ]
     },
     "execution_count": 47,
     "metadata": {},
     "output_type": "execute_result"
    }
   ],
   "source": [
    "# Sentiment check for uk content\n",
    "sentiment_check(uk_df.content)"
   ]
  },
  {
   "cell_type": "code",
   "execution_count": 48,
   "metadata": {},
   "outputs": [
    {
     "data": {
      "text/plain": [
       "0.4963005"
      ]
     },
     "execution_count": 48,
     "metadata": {},
     "output_type": "execute_result"
    }
   ],
   "source": [
    "# Sentiment check for eu titles\n",
    "sentiment_check(eu_df.title)"
   ]
  },
  {
   "cell_type": "code",
   "execution_count": 49,
   "metadata": {},
   "outputs": [
    {
     "data": {
      "text/plain": [
       "0.4912125"
      ]
     },
     "execution_count": 49,
     "metadata": {},
     "output_type": "execute_result"
    }
   ],
   "source": [
    "sentiment_check(uk_df.title)"
   ]
  },
  {
   "cell_type": "code",
   "execution_count": null,
   "metadata": {},
   "outputs": [],
   "source": []
  },
  {
   "cell_type": "code",
   "execution_count": null,
   "metadata": {},
   "outputs": [],
   "source": []
  },
  {
   "cell_type": "code",
   "execution_count": 50,
   "metadata": {},
   "outputs": [
    {
     "data": {
      "text/plain": [
       "0.5300889583333334"
      ]
     },
     "execution_count": 50,
     "metadata": {},
     "output_type": "execute_result"
    }
   ],
   "source": [
    "sf_dict = scrape_comment_data(reddit,\"sinn fein\",limit=100)\n",
    "sf_df = pd.DataFrame.from_dict(sf_dict)\n",
    "sf_df['comments_no_stops'] = sf_df['comments'].apply(lambda text:\" \".join(remove_stops(text)))\n",
    "sf_df[\"comments_lemmatized\"] = sf_df['comments_no_stops'].apply(lambda x: \" \".join([y.lemma_ for y in nlp(x)]))\n",
    "sf_df['sf_scores'] = sf_df['comments_lemmatized'].apply(lambda comments: positivity(comments,\"sinn fein\"))\n",
    "sf_df['sf_scores'] = sf_df['sf_scores'].apply(lambda score: (score+1)/2)\n",
    "sf_df['sf_scores'].mean()"
   ]
  },
  {
   "cell_type": "code",
   "execution_count": 52,
   "metadata": {},
   "outputs": [
    {
     "data": {
      "text/plain": [
       "0.6871571428571428"
      ]
     },
     "execution_count": 52,
     "metadata": {},
     "output_type": "execute_result"
    }
   ],
   "source": [
    "sentiment_check(sf_df.content)"
   ]
  },
  {
   "cell_type": "code",
   "execution_count": 51,
   "metadata": {},
   "outputs": [
    {
     "data": {
      "text/plain": [
       "0.2862585144927536"
      ]
     },
     "execution_count": 51,
     "metadata": {},
     "output_type": "execute_result"
    }
   ],
   "source": [
    "ff_dict = scrape_comment_data(reddit,\"fianna fail\",limit=100)\n",
    "ff_df = pd.DataFrame.from_dict(ff_dict)\n",
    "ff_df['comments_no_stops'] = ff_df['comments'].apply(lambda text:\" \".join(remove_stops(text)))\n",
    "ff_df[\"comments_lemmatized\"] = ff_df['comments_no_stops'].apply(lambda x: \" \".join([y.lemma_ for y in nlp(x)]))\n",
    "ff_df['ff_scores'] = ff_df['comments_lemmatized'].apply(lambda comments: positivity(comments,\"fianna fail\"))\n",
    "ff_df['ff_scores'] = ff_df['ff_scores'].apply(lambda score: (score+1)/2)\n",
    "ff_df['ff_scores'].mean()"
   ]
  },
  {
   "cell_type": "code",
   "execution_count": 54,
   "metadata": {},
   "outputs": [
    {
     "data": {
      "text/plain": [
       "0.6252517857142857"
      ]
     },
     "execution_count": 54,
     "metadata": {},
     "output_type": "execute_result"
    }
   ],
   "source": [
    "sentiment_check(ff_df.content)"
   ]
  },
  {
   "cell_type": "code",
   "execution_count": 58,
   "metadata": {},
   "outputs": [
    {
     "data": {
      "text/plain": [
       "0.6026840189594357"
      ]
     },
     "execution_count": 58,
     "metadata": {},
     "output_type": "execute_result"
    }
   ],
   "source": [
    "fg_dict = scrape_comment_data(reddit,\"fine gael\",limit=100)\n",
    "fg_df = pd.DataFrame.from_dict(fg_dict)\n",
    "fg_df['comments_no_stops'] = fg_df['comments'].apply(lambda text:\" \".join(remove_stops(text)))\n",
    "fg_df[\"comments_lemmatized\"] = fg_df['comments_no_stops'].apply(lambda x: \" \".join([y.lemma_ for y in nlp(x)]))\n",
    "fg_df['fg_scores'] = fg_df['comments_lemmatized'].apply(lambda comments: positivity(comments,\"fine gael\"))\n",
    "fg_df['fg_scores'] = fg_df['fg_scores'].apply(lambda score: (score+1)/2)\n",
    "fg_df['fg_scores'].mean()"
   ]
  },
  {
   "cell_type": "code",
   "execution_count": 56,
   "metadata": {},
   "outputs": [
    {
     "data": {
      "text/plain": [
       "0.7319276778083027"
      ]
     },
     "execution_count": 56,
     "metadata": {},
     "output_type": "execute_result"
    }
   ],
   "source": [
    "gp_dict = scrape_comment_data(reddit,\"green party\",limit=100)\n",
    "gp_df = pd.DataFrame.from_dict(gp_dict)\n",
    "gp_df['comments_no_stops'] = gp_df['comments'].apply(lambda text:\" \".join(remove_stops(text)))\n",
    "gp_df[\"comments_lemmatized\"] = gp_df['comments_no_stops'].apply(lambda x: \" \".join([y.lemma_ for y in nlp(x)]))\n",
    "gp_df['gp_scores'] = gp_df['comments_lemmatized'].apply(lambda comments: positivity(comments,\"green party\"))\n",
    "gp_df['gp_scores'] = gp_df['gp_scores'].apply(lambda score: (score+1)/2)\n",
    "gp_df['gp_scores'].mean()"
   ]
  },
  {
   "cell_type": "code",
   "execution_count": 60,
   "metadata": {},
   "outputs": [
    {
     "data": {
      "image/png": "[encoded data removed]",
      "text/plain": [
       "<Figure size 432x288 with 1 Axes>"
      ]
     },
     "metadata": {
      "needs_background": "light"
     },
     "output_type": "display_data"
    }
   ],
   "source": [
    "support =[sf_df['sf_scores'].mean(),ff_df['ff_scores'].mean(),fg_df['fg_scores'].mean(),gp_df['gp_scores'].mean()]\n",
    "parties = ['Sinn Fein','Fianna Fail','Fine Gael', 'Green Party']\n",
    "\n",
    "fig = plt.figure()\n",
    "ax = fig.add_axes([0,0,1,1])\n",
    "ax.bar(parties,support)\n",
    "plt.title(\"Sentiment towards Irish poliltical party\")\n",
    "plt.xlabel('Parties')\n",
    "plt.ylabel('Sentiment')\n",
    "plt.show()"
   ]
  },
  {
   "cell_type": "code",
   "execution_count": 61,
   "metadata": {},
   "outputs": [
    {
     "data": {
      "text/plain": [
       "0.6026840189594357"
      ]
     },
     "execution_count": 61,
     "metadata": {},
     "output_type": "execute_result"
    }
   ],
   "source": [
    "ff_df['ff_scores'].mean()"
   ]
  },
  {
   "cell_type": "code",
   "execution_count": 62,
   "metadata": {},
   "outputs": [],
   "source": [
    "gov_dict = scrape_comment_data(reddit,\"Irish government\",limit=100)\n",
    "gov_df = pd.DataFrame.from_dict(gov_dict)\n",
    "gov_df['comments_no_stops'] = gov_df['comments'].apply(lambda text:\" \".join(remove_stops(text)))\n",
    "gov_df[\"comments_lemmatized\"] = gov_df['comments_no_stops'].apply(lambda x: \" \".join([y.lemma_ for y in nlp(x)]))\n",
    "\n",
    "gov_df['gp_scores'] = gov_df['comments_lemmatized'].apply(lambda comments: positivity(comments,\"green party\"))\n",
    "gov_df['fg_scores'] = gov_df['comments_lemmatized'].apply(lambda comments: positivity(comments,\"fine gael\"))\n",
    "\n",
    "gov_df['ff_scores'] = gov_df['comments_lemmatized'].apply(lambda comments: positivity(comments,\"fianna fail\"))\n",
    "gov_df['sf_scores'] = gov_df['comments_lemmatized'].apply(lambda comments: positivity(comments,\"sinn fein\"))\n",
    "\n",
    "gov_df['gp_scores'] = gov_df['gp_scores'].apply(lambda score: (score+1)/2)\n",
    "gov_df['fg_scores'] = gov_df['fg_scores'].apply(lambda score: (score+1)/2)\n",
    "\n",
    "gov_df['ff_scores'] = gov_df['ff_scores'].apply(lambda score: (score+1)/2)\n",
    "gov_df['sf_scores'] = gov_df['sf_scores'].apply(lambda score: (score+1)/2)\n",
    "\n"
   ]
  },
  {
   "cell_type": "code",
   "execution_count": 67,
   "metadata": {},
   "outputs": [],
   "source": [
    "gov_support =[   gov_df['sf_scores'].mean(),\n",
    "    gov_df['ff_scores'].mean(),\n",
    "    gov_df['fg_scores'].mean(),\n",
    "    gov_df['gp_scores'].mean()\n",
    "\n",
    "]"
   ]
  },
  {
   "cell_type": "code",
   "execution_count": 68,
   "metadata": {},
   "outputs": [
    {
     "data": {
      "image/png": "[encoded data removed]",
      "text/plain": [
       "<Figure size 432x288 with 1 Axes>"
      ]
     },
     "metadata": {
      "needs_background": "light"
     },
     "output_type": "display_data"
    }
   ],
   "source": [
    "parties = ['Sinn Fein','Fianna Fail','Fine Gael', 'Green Party']\n",
    "\n",
    "fig = plt.figure()\n",
    "ax = fig.add_axes([0,0,1,1])\n",
    "ax.bar(parties,gov_support)\n",
    "plt.title(\"Sentiment towards Irish poliltical party\")\n",
    "plt.xlabel('Parties')\n",
    "plt.ylabel('Sentiment')\n",
    "plt.show()"
   ]
  },
  {
   "cell_type": "raw",
   "metadata": {},
   "source": [
    "[   gov_df['sf_scores'].mean(),\n",
    "    gov_df['ff_scores'].mean(),\n",
    "    gov_df['fg_scores'].mean(),\n",
    "    gov_df['gp_scores'].mean()\n",
    "\n",
    "]"
   ]
  }
 ],
 "metadata": {
  "kernelspec": {
   "display_name": "Python 3",
   "language": "python",
   "name": "python3"
  },
  "language_info": {
   "codemirror_mode": {
    "name": "ipython",
    "version": 3
   },
   "file_extension": ".py",
   "mimetype": "text/x-python",
   "name": "python",
   "nbconvert_exporter": "python",
   "pygments_lexer": "ipython3",
   "version": "3.7.9"
  }
 },
 "nbformat": 4,
 "nbformat_minor": 4
}
