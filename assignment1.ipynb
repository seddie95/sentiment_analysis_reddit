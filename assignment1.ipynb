{
 "cells": [
  {
   "cell_type": "code",
   "execution_count": 90,
   "metadata": {},
   "outputs": [],
   "source": [
    "import pandas as pd\n",
    "import praw\n",
    "from praw.models import MoreComments\n",
    "import nltk\n",
    "from nltk.sentiment.vader import SentimentIntensityAnalyzer\n",
    "import matplotlib.pyplot as plt\n",
    "from sklearn.feature_extraction.text import CountVectorizer\n",
    "from sklearn.decomposition import LatentDirichletAllocation\n",
    "from collections import defaultdict\n",
    "import spacy\n",
    "import string"
   ]
  },
  {
   "cell_type": "code",
   "execution_count": 101,
   "metadata": {},
   "outputs": [],
   "source": [
    "ci = \"TTvdII1Rg7IzUg\" # your client id\n",
    "cs = \"ZBH4sSqYdiRxZZR9h4IosSbAc1K8-Q\" #your client secret\n",
    "ua = \"gibberish\" #your user agent name\n",
    "sub = \"ireland\" #the name of the subreddit (not including the 'r/')"
   ]
  },
  {
   "cell_type": "code",
   "execution_count": 102,
   "metadata": {},
   "outputs": [],
   "source": [
    "# Scrape reddit for text content\n",
    "reddit = praw.Reddit(\n",
    "    client_id=ci,\n",
    "    client_secret=cs,\n",
    "    user_agent=ua\n",
    ")\n",
    "\n",
    "\n",
    "\n",
    "\n",
    "\n",
    "def scrape_year_data(reddit,limit=50): \n",
    "    \n",
    "    title_dict = {\"title\": [],\"time\":[]}\n",
    "    \n",
    "    for post in reddit.subreddit(sub).top(time_filter='year', limit=limit): \n",
    "        if not post.stickied:\n",
    "            title_dict[\"title\"].append(post.title)\n",
    "            title_dict[\"time\"].append(int(post.created))\n",
    "        \n",
    "    return title_dict       \n",
    "            \n",
    "\n",
    "            #this line collects the post titles\n",
    "            #f.write(post.title+\"\\n\")\n",
    "\n",
    "    #         #this line collects the post content\n",
    "    #         f.write(post.selftext+\"\\n\")\n",
    "\n",
    "    #         #this section collects the comments\n",
    "    #         for comment in post.comments:\n",
    "    #             if isinstance(comment, MoreComments):\n",
    "    #                 continue\n",
    "    #             f.write(comment.body+\"\\n\")\n",
    "\n"
   ]
  },
  {
   "cell_type": "code",
   "execution_count": 103,
   "metadata": {},
   "outputs": [
    {
     "name": "stdout",
     "output_type": "stream",
     "text": [
      "[nltk_data] Downloading package vader_lexicon to\n",
      "[nltk_data]     C:\\Users\\sed\\AppData\\Roaming\\nltk_data...\n",
      "[nltk_data]   Package vader_lexicon is already up-to-date!\n"
     ]
    },
    {
     "data": {
      "text/plain": [
       "True"
      ]
     },
     "execution_count": 103,
     "metadata": {},
     "output_type": "execute_result"
    }
   ],
   "source": [
    "nlp = spacy.load('en')\n",
    "nltk.download('vader_lexicon')"
   ]
  },
  {
   "cell_type": "code",
   "execution_count": 104,
   "metadata": {},
   "outputs": [],
   "source": [
    "def remove_stops(text):\n",
    "    \"\"\"Function to remove most common stop words from text\"\"\"\n",
    "    my_doc = nlp(text)\n",
    "\n",
    "    # create list of token words\n",
    "    token_list= [token.text for token in my_doc]\n",
    "\n",
    "    # return list of word tokens after removing stopwords\n",
    "    return [word for word in token_list if nlp.vocab[word].is_stop == False]"
   ]
  },
  {
   "cell_type": "code",
   "execution_count": 105,
   "metadata": {},
   "outputs": [],
   "source": [
    "def preprocess_df(df):\n",
    "    df['title_no_stops'] = df['title'].apply(lambda text:\" \".join(remove_stops(text)))\n",
    "    df[\"title_lemmatized\"] = df['title_no_stops'].apply(lambda x: \" \".join([y.lemma_ for y in nlp(x)]))\n",
    "    "
   ]
  },
  {
   "cell_type": "markdown",
   "metadata": {},
   "source": [
    "## Positivity of Countries"
   ]
  },
  {
   "cell_type": "code",
   "execution_count": 106,
   "metadata": {},
   "outputs": [],
   "source": [
    "sentimentAnlyser = SentimentIntensityAnalyzer()"
   ]
  },
  {
   "cell_type": "code",
   "execution_count": 107,
   "metadata": {},
   "outputs": [],
   "source": [
    "def average_sentiment(country):\n",
    "    title_dict = {\"title\": []}\n",
    "    \n",
    "    for post in reddit.subreddit(country).top(limit=200): \n",
    "        if not post.stickied:\n",
    "            title_dict[\"title\"].append(post.title)\n",
    "            \n",
    "    sentimentAnlyser = SentimentIntensityAnalyzer()\n",
    "    df = pd.DataFrame.from_dict(title_dict)\n",
    "    df.to_csv(f'data/{country}.csv')\n",
    "    #  Unccomment to clean the data files to remove stop words and lemmatize\n",
    "    #preprocess_df(df)\n",
    "    \n",
    "    df['scores'] = df['title'].apply(lambda title: sentimentAnlyser.polarity_scores(title)['compound'])\n",
    "    df['normalised_scores'] = df['scores'].apply(lambda score: (score+1)/2)\n",
    "           \n",
    "    return df['normalised_scores'].mean()  \n",
    "    "
   ]
  },
  {
   "cell_type": "code",
   "execution_count": 112,
   "metadata": {},
   "outputs": [],
   "source": [
    "countries = ['egypt','Norway','Switzerland','Netherlands','india','finland','yemen']\n",
    "\n",
    "country_dict = dict()\n",
    "for country in countries:\n",
    "    country_dict[country] = average_sentiment(country)"
   ]
  },
  {
   "cell_type": "code",
   "execution_count": 113,
   "metadata": {},
   "outputs": [
    {
     "data": {
      "text/plain": [
       "{'egypt': 0.550446,\n",
       " 'Norway': 0.5792835,\n",
       " 'Switzerland': 0.5698655,\n",
       " 'Netherlands': 0.5650185000000001,\n",
       " 'india': 0.51415025,\n",
       " 'finland': 0.5832595,\n",
       " 'yemen': 0.510160101010101}"
      ]
     },
     "execution_count": 113,
     "metadata": {},
     "output_type": "execute_result"
    }
   ],
   "source": [
    "country_dict"
   ]
  },
  {
   "cell_type": "code",
   "execution_count": 117,
   "metadata": {},
   "outputs": [],
   "source": [
    "country_dict ={k: v for k, v in sorted(country_dict.items(), key=lambda item: item[1])}"
   ]
  },
  {
   "cell_type": "code",
   "execution_count": 118,
   "metadata": {},
   "outputs": [
    {
     "data": {
      "image/png": "[encoded data removed]",
      "text/plain": [
       "<Figure size 648x432 with 1 Axes>"
      ]
     },
     "metadata": {
      "needs_background": "light"
     },
     "output_type": "display_data"
    }
   ],
   "source": [
    "country = country_dict.keys()\n",
    "positivity = country_dict.values()\n",
    "\n",
    "fig = plt.figure(figsize=(9,6))\n",
    "ax = fig.add_axes([0,0,1,1])\n",
    "ax.bar(country,positivity)\n",
    "plt.title('Positivity of Countries posts')\n",
    "plt.xlabel('Countries')\n",
    "plt.ylabel('Positivity')\n",
    "plt.show()"
   ]
  },
  {
   "cell_type": "markdown",
   "metadata": {},
   "source": [
    "## Sentiment Analysis of Ireland"
   ]
  },
  {
   "cell_type": "code",
   "execution_count": 45,
   "metadata": {},
   "outputs": [
    {
     "data": {
      "text/html": [
       "<div>\n",
       "<style scoped>\n",
       "    .dataframe tbody tr th:only-of-type {\n",
       "        vertical-align: middle;\n",
       "    }\n",
       "\n",
       "    .dataframe tbody tr th {\n",
       "        vertical-align: top;\n",
       "    }\n",
       "\n",
       "    .dataframe thead th {\n",
       "        text-align: right;\n",
       "    }\n",
       "</style>\n",
       "<table border=\"1\" class=\"dataframe\">\n",
       "  <thead>\n",
       "    <tr style=\"text-align: right;\">\n",
       "      <th></th>\n",
       "      <th>title</th>\n",
       "      <th>time</th>\n",
       "      <th>date_time</th>\n",
       "      <th>weeks</th>\n",
       "    </tr>\n",
       "  </thead>\n",
       "  <tbody>\n",
       "    <tr>\n",
       "      <th>507</th>\n",
       "      <td>Child labour.</td>\n",
       "      <td>1582591320</td>\n",
       "      <td>2020-02-25</td>\n",
       "      <td>2020-02-18 00:42:00</td>\n",
       "    </tr>\n",
       "    <tr>\n",
       "      <th>298</th>\n",
       "      <td>Very True</td>\n",
       "      <td>1582776603</td>\n",
       "      <td>2020-02-27</td>\n",
       "      <td>2020-02-20 04:10:03</td>\n",
       "    </tr>\n",
       "    <tr>\n",
       "      <th>721</th>\n",
       "      <td>Paddys day outfit sorted</td>\n",
       "      <td>1582899684</td>\n",
       "      <td>2020-02-28</td>\n",
       "      <td>2020-02-21 14:21:24</td>\n",
       "    </tr>\n",
       "    <tr>\n",
       "      <th>5</th>\n",
       "      <td>Landlords when they have to give back a deposit.</td>\n",
       "      <td>1582999918</td>\n",
       "      <td>2020-02-29</td>\n",
       "      <td>2020-02-22 18:11:58</td>\n",
       "    </tr>\n",
       "    <tr>\n",
       "      <th>836</th>\n",
       "      <td>Me celebrating St Patrick's Day alone this year</td>\n",
       "      <td>1583072175</td>\n",
       "      <td>2020-03-01</td>\n",
       "      <td>2020-02-23 14:16:15</td>\n",
       "    </tr>\n",
       "  </tbody>\n",
       "</table>\n",
       "</div>"
      ],
      "text/plain": [
       "                                                title        time   date_time  \\\n",
       "507                                     Child labour.  1582591320  2020-02-25   \n",
       "298                                         Very True  1582776603  2020-02-27   \n",
       "721                          Paddys day outfit sorted  1582899684  2020-02-28   \n",
       "5    Landlords when they have to give back a deposit.  1582999918  2020-02-29   \n",
       "836   Me celebrating St Patrick's Day alone this year  1583072175  2020-03-01   \n",
       "\n",
       "                  weeks  \n",
       "507 2020-02-18 00:42:00  \n",
       "298 2020-02-20 04:10:03  \n",
       "721 2020-02-21 14:21:24  \n",
       "5   2020-02-22 18:11:58  \n",
       "836 2020-02-23 14:16:15  "
      ]
     },
     "execution_count": 45,
     "metadata": {},
     "output_type": "execute_result"
    }
   ],
   "source": [
    "title_dict = scrape_year_data(reddit,1000)\n",
    "df = pd.DataFrame.from_dict(title_dict)\n",
    "df.to_csv(f'data/uncleaned_Ireland.csv')\n",
    "\n",
    "df.sort_values(by='time',inplace=True)\n",
    "\n",
    "#Week and date info\n",
    "df['date_time']= pd.to_datetime(df['time'],unit='s').dt.date\n",
    "df['weeks'] = pd.to_datetime(df['time'],unit='s') - pd.to_timedelta(7,unit= 'd')\n",
    "\n",
    "df.drop_duplicates(subset=['date_time'],inplace=True)\n",
    "df.head()"
   ]
  },
  {
   "cell_type": "code",
   "execution_count": 84,
   "metadata": {},
   "outputs": [],
   "source": [
    "df['weeks'] = pd.to_datetime(df['time'],unit='s')- pd.to_timedelta(7,unit= 'd')"
   ]
  },
  {
   "cell_type": "code",
   "execution_count": 85,
   "metadata": {},
   "outputs": [
    {
     "data": {
      "text/plain": [
       "113"
      ]
     },
     "execution_count": 85,
     "metadata": {},
     "output_type": "execute_result"
    }
   ],
   "source": [
    "df.normalised_scores.nunique()"
   ]
  },
  {
   "cell_type": "code",
   "execution_count": 86,
   "metadata": {},
   "outputs": [],
   "source": []
  },
  {
   "cell_type": "code",
   "execution_count": 99,
   "metadata": {},
   "outputs": [
    {
     "data": {
      "text/plain": [
       "(52, 2)"
      ]
     },
     "execution_count": 99,
     "metadata": {},
     "output_type": "execute_result"
    }
   ],
   "source": []
  },
  {
   "cell_type": "code",
   "execution_count": 46,
   "metadata": {},
   "outputs": [],
   "source": [
    "df['date_time']= pd.to_datetime(df['time'],unit='s').dt.date\n",
    "df.drop_duplicates(subset=['date_time'],inplace=True)"
   ]
  },
  {
   "cell_type": "code",
   "execution_count": 74,
   "metadata": {},
   "outputs": [
    {
     "data": {
      "text/html": [
       "<div>\n",
       "<style scoped>\n",
       "    .dataframe tbody tr th:only-of-type {\n",
       "        vertical-align: middle;\n",
       "    }\n",
       "\n",
       "    .dataframe tbody tr th {\n",
       "        vertical-align: top;\n",
       "    }\n",
       "\n",
       "    .dataframe thead th {\n",
       "        text-align: right;\n",
       "    }\n",
       "</style>\n",
       "<table border=\"1\" class=\"dataframe\">\n",
       "  <thead>\n",
       "    <tr style=\"text-align: right;\">\n",
       "      <th></th>\n",
       "      <th>title</th>\n",
       "      <th>time</th>\n",
       "      <th>date_time</th>\n",
       "      <th>weeks</th>\n",
       "      <th>scores</th>\n",
       "      <th>normalised_scores</th>\n",
       "    </tr>\n",
       "  </thead>\n",
       "  <tbody>\n",
       "    <tr>\n",
       "      <th>507</th>\n",
       "      <td>Child labour.</td>\n",
       "      <td>1582591320</td>\n",
       "      <td>2020-02-25</td>\n",
       "      <td>2020-02-18 00:42:00</td>\n",
       "      <td>0.0000</td>\n",
       "      <td>0.50000</td>\n",
       "    </tr>\n",
       "    <tr>\n",
       "      <th>298</th>\n",
       "      <td>Very True</td>\n",
       "      <td>1582776603</td>\n",
       "      <td>2020-02-27</td>\n",
       "      <td>2020-02-20 04:10:03</td>\n",
       "      <td>0.4754</td>\n",
       "      <td>0.73770</td>\n",
       "    </tr>\n",
       "    <tr>\n",
       "      <th>721</th>\n",
       "      <td>Paddys day outfit sorted</td>\n",
       "      <td>1582899684</td>\n",
       "      <td>2020-02-28</td>\n",
       "      <td>2020-02-21 14:21:24</td>\n",
       "      <td>0.0000</td>\n",
       "      <td>0.50000</td>\n",
       "    </tr>\n",
       "    <tr>\n",
       "      <th>5</th>\n",
       "      <td>Landlords when they have to give back a deposit.</td>\n",
       "      <td>1582999918</td>\n",
       "      <td>2020-02-29</td>\n",
       "      <td>2020-02-22 18:11:58</td>\n",
       "      <td>0.0000</td>\n",
       "      <td>0.50000</td>\n",
       "    </tr>\n",
       "    <tr>\n",
       "      <th>836</th>\n",
       "      <td>Me celebrating St Patrick's Day alone this year</td>\n",
       "      <td>1583072175</td>\n",
       "      <td>2020-03-01</td>\n",
       "      <td>2020-02-23 14:16:15</td>\n",
       "      <td>0.4019</td>\n",
       "      <td>0.70095</td>\n",
       "    </tr>\n",
       "  </tbody>\n",
       "</table>\n",
       "</div>"
      ],
      "text/plain": [
       "                                                title        time   date_time  \\\n",
       "507                                     Child labour.  1582591320  2020-02-25   \n",
       "298                                         Very True  1582776603  2020-02-27   \n",
       "721                          Paddys day outfit sorted  1582899684  2020-02-28   \n",
       "5    Landlords when they have to give back a deposit.  1582999918  2020-02-29   \n",
       "836   Me celebrating St Patrick's Day alone this year  1583072175  2020-03-01   \n",
       "\n",
       "                  weeks  scores  normalised_scores  \n",
       "507 2020-02-18 00:42:00  0.0000            0.50000  \n",
       "298 2020-02-20 04:10:03  0.4754            0.73770  \n",
       "721 2020-02-21 14:21:24  0.0000            0.50000  \n",
       "5   2020-02-22 18:11:58  0.0000            0.50000  \n",
       "836 2020-02-23 14:16:15  0.4019            0.70095  "
      ]
     },
     "execution_count": 74,
     "metadata": {},
     "output_type": "execute_result"
    }
   ],
   "source": [
    "df.head()"
   ]
  },
  {
   "cell_type": "code",
   "execution_count": 48,
   "metadata": {},
   "outputs": [
    {
     "data": {
      "text/html": [
       "<div>\n",
       "<style scoped>\n",
       "    .dataframe tbody tr th:only-of-type {\n",
       "        vertical-align: middle;\n",
       "    }\n",
       "\n",
       "    .dataframe tbody tr th {\n",
       "        vertical-align: top;\n",
       "    }\n",
       "\n",
       "    .dataframe thead th {\n",
       "        text-align: right;\n",
       "    }\n",
       "</style>\n",
       "<table border=\"1\" class=\"dataframe\">\n",
       "  <thead>\n",
       "    <tr style=\"text-align: right;\">\n",
       "      <th></th>\n",
       "      <th>title</th>\n",
       "      <th>time</th>\n",
       "      <th>date_time</th>\n",
       "      <th>weeks</th>\n",
       "      <th>scores</th>\n",
       "    </tr>\n",
       "  </thead>\n",
       "  <tbody>\n",
       "    <tr>\n",
       "      <th>507</th>\n",
       "      <td>Child labour.</td>\n",
       "      <td>1582591320</td>\n",
       "      <td>2020-02-25</td>\n",
       "      <td>2020-02-18 00:42:00</td>\n",
       "      <td>0.0000</td>\n",
       "    </tr>\n",
       "    <tr>\n",
       "      <th>298</th>\n",
       "      <td>Very True</td>\n",
       "      <td>1582776603</td>\n",
       "      <td>2020-02-27</td>\n",
       "      <td>2020-02-20 04:10:03</td>\n",
       "      <td>0.4754</td>\n",
       "    </tr>\n",
       "    <tr>\n",
       "      <th>721</th>\n",
       "      <td>Paddys day outfit sorted</td>\n",
       "      <td>1582899684</td>\n",
       "      <td>2020-02-28</td>\n",
       "      <td>2020-02-21 14:21:24</td>\n",
       "      <td>0.0000</td>\n",
       "    </tr>\n",
       "    <tr>\n",
       "      <th>5</th>\n",
       "      <td>Landlords when they have to give back a deposit.</td>\n",
       "      <td>1582999918</td>\n",
       "      <td>2020-02-29</td>\n",
       "      <td>2020-02-22 18:11:58</td>\n",
       "      <td>0.0000</td>\n",
       "    </tr>\n",
       "    <tr>\n",
       "      <th>836</th>\n",
       "      <td>Me celebrating St Patrick's Day alone this year</td>\n",
       "      <td>1583072175</td>\n",
       "      <td>2020-03-01</td>\n",
       "      <td>2020-02-23 14:16:15</td>\n",
       "      <td>0.4019</td>\n",
       "    </tr>\n",
       "    <tr>\n",
       "      <th>115</th>\n",
       "      <td>RIP Carlow</td>\n",
       "      <td>1583108544</td>\n",
       "      <td>2020-03-02</td>\n",
       "      <td>2020-02-24 00:22:24</td>\n",
       "      <td>0.0000</td>\n",
       "    </tr>\n",
       "    <tr>\n",
       "      <th>717</th>\n",
       "      <td>So A Woman Has Been Banned From Participating ...</td>\n",
       "      <td>1583213094</td>\n",
       "      <td>2020-03-03</td>\n",
       "      <td>2020-02-25 05:24:54</td>\n",
       "      <td>-0.6369</td>\n",
       "    </tr>\n",
       "    <tr>\n",
       "      <th>245</th>\n",
       "      <td>How I, as a Pole see Ireland (P.S thanks for t...</td>\n",
       "      <td>1583293841</td>\n",
       "      <td>2020-03-04</td>\n",
       "      <td>2020-02-26 03:50:41</td>\n",
       "      <td>0.4404</td>\n",
       "    </tr>\n",
       "    <tr>\n",
       "      <th>226</th>\n",
       "      <td>Cliffs of Moher</td>\n",
       "      <td>1583425827</td>\n",
       "      <td>2020-03-05</td>\n",
       "      <td>2020-02-27 16:30:27</td>\n",
       "      <td>0.0000</td>\n",
       "    </tr>\n",
       "    <tr>\n",
       "      <th>212</th>\n",
       "      <td>Ireland's response</td>\n",
       "      <td>1583484824</td>\n",
       "      <td>2020-03-06</td>\n",
       "      <td>2020-02-28 08:53:44</td>\n",
       "      <td>0.0000</td>\n",
       "    </tr>\n",
       "  </tbody>\n",
       "</table>\n",
       "</div>"
      ],
      "text/plain": [
       "                                                 title        time  \\\n",
       "507                                      Child labour.  1582591320   \n",
       "298                                          Very True  1582776603   \n",
       "721                           Paddys day outfit sorted  1582899684   \n",
       "5     Landlords when they have to give back a deposit.  1582999918   \n",
       "836    Me celebrating St Patrick's Day alone this year  1583072175   \n",
       "115                                         RIP Carlow  1583108544   \n",
       "717  So A Woman Has Been Banned From Participating ...  1583213094   \n",
       "245  How I, as a Pole see Ireland (P.S thanks for t...  1583293841   \n",
       "226                                    Cliffs of Moher  1583425827   \n",
       "212                                 Ireland's response  1583484824   \n",
       "\n",
       "      date_time               weeks  scores  \n",
       "507  2020-02-25 2020-02-18 00:42:00  0.0000  \n",
       "298  2020-02-27 2020-02-20 04:10:03  0.4754  \n",
       "721  2020-02-28 2020-02-21 14:21:24  0.0000  \n",
       "5    2020-02-29 2020-02-22 18:11:58  0.0000  \n",
       "836  2020-03-01 2020-02-23 14:16:15  0.4019  \n",
       "115  2020-03-02 2020-02-24 00:22:24  0.0000  \n",
       "717  2020-03-03 2020-02-25 05:24:54 -0.6369  \n",
       "245  2020-03-04 2020-02-26 03:50:41  0.4404  \n",
       "226  2020-03-05 2020-02-27 16:30:27  0.0000  \n",
       "212  2020-03-06 2020-02-28 08:53:44  0.0000  "
      ]
     },
     "execution_count": 48,
     "metadata": {},
     "output_type": "execute_result"
    }
   ],
   "source": [
    "df['scores'] = df['title'].apply(lambda title: sentimentAnlyser.polarity_scores(title)['compound'])\n",
    "\n",
    "df.head(10)"
   ]
  },
  {
   "cell_type": "code",
   "execution_count": 49,
   "metadata": {},
   "outputs": [
    {
     "data": {
      "text/plain": [
       "0.06726878453038675"
      ]
     },
     "execution_count": 49,
     "metadata": {},
     "output_type": "execute_result"
    }
   ],
   "source": [
    "df['scores'].mean()"
   ]
  },
  {
   "cell_type": "code",
   "execution_count": 50,
   "metadata": {},
   "outputs": [
    {
     "data": {
      "text/plain": [
       "0.9169"
      ]
     },
     "execution_count": 50,
     "metadata": {},
     "output_type": "execute_result"
    }
   ],
   "source": [
    "df['scores'].max()"
   ]
  },
  {
   "cell_type": "code",
   "execution_count": 51,
   "metadata": {},
   "outputs": [
    {
     "data": {
      "text/plain": [
       "-0.8883"
      ]
     },
     "execution_count": 51,
     "metadata": {},
     "output_type": "execute_result"
    }
   ],
   "source": [
    "df['scores'].min()"
   ]
  },
  {
   "cell_type": "code",
   "execution_count": 52,
   "metadata": {},
   "outputs": [
    {
     "data": {
      "text/html": [
       "<div>\n",
       "<style scoped>\n",
       "    .dataframe tbody tr th:only-of-type {\n",
       "        vertical-align: middle;\n",
       "    }\n",
       "\n",
       "    .dataframe tbody tr th {\n",
       "        vertical-align: top;\n",
       "    }\n",
       "\n",
       "    .dataframe thead th {\n",
       "        text-align: right;\n",
       "    }\n",
       "</style>\n",
       "<table border=\"1\" class=\"dataframe\">\n",
       "  <thead>\n",
       "    <tr style=\"text-align: right;\">\n",
       "      <th></th>\n",
       "      <th>title</th>\n",
       "      <th>time</th>\n",
       "      <th>date_time</th>\n",
       "      <th>weeks</th>\n",
       "      <th>scores</th>\n",
       "      <th>normalised_scores</th>\n",
       "    </tr>\n",
       "  </thead>\n",
       "  <tbody>\n",
       "    <tr>\n",
       "      <th>507</th>\n",
       "      <td>Child labour.</td>\n",
       "      <td>1582591320</td>\n",
       "      <td>2020-02-25</td>\n",
       "      <td>2020-02-18 00:42:00</td>\n",
       "      <td>0.0000</td>\n",
       "      <td>0.50000</td>\n",
       "    </tr>\n",
       "    <tr>\n",
       "      <th>298</th>\n",
       "      <td>Very True</td>\n",
       "      <td>1582776603</td>\n",
       "      <td>2020-02-27</td>\n",
       "      <td>2020-02-20 04:10:03</td>\n",
       "      <td>0.4754</td>\n",
       "      <td>0.73770</td>\n",
       "    </tr>\n",
       "    <tr>\n",
       "      <th>721</th>\n",
       "      <td>Paddys day outfit sorted</td>\n",
       "      <td>1582899684</td>\n",
       "      <td>2020-02-28</td>\n",
       "      <td>2020-02-21 14:21:24</td>\n",
       "      <td>0.0000</td>\n",
       "      <td>0.50000</td>\n",
       "    </tr>\n",
       "    <tr>\n",
       "      <th>5</th>\n",
       "      <td>Landlords when they have to give back a deposit.</td>\n",
       "      <td>1582999918</td>\n",
       "      <td>2020-02-29</td>\n",
       "      <td>2020-02-22 18:11:58</td>\n",
       "      <td>0.0000</td>\n",
       "      <td>0.50000</td>\n",
       "    </tr>\n",
       "    <tr>\n",
       "      <th>836</th>\n",
       "      <td>Me celebrating St Patrick's Day alone this year</td>\n",
       "      <td>1583072175</td>\n",
       "      <td>2020-03-01</td>\n",
       "      <td>2020-02-23 14:16:15</td>\n",
       "      <td>0.4019</td>\n",
       "      <td>0.70095</td>\n",
       "    </tr>\n",
       "    <tr>\n",
       "      <th>115</th>\n",
       "      <td>RIP Carlow</td>\n",
       "      <td>1583108544</td>\n",
       "      <td>2020-03-02</td>\n",
       "      <td>2020-02-24 00:22:24</td>\n",
       "      <td>0.0000</td>\n",
       "      <td>0.50000</td>\n",
       "    </tr>\n",
       "    <tr>\n",
       "      <th>717</th>\n",
       "      <td>So A Woman Has Been Banned From Participating ...</td>\n",
       "      <td>1583213094</td>\n",
       "      <td>2020-03-03</td>\n",
       "      <td>2020-02-25 05:24:54</td>\n",
       "      <td>-0.6369</td>\n",
       "      <td>0.18155</td>\n",
       "    </tr>\n",
       "    <tr>\n",
       "      <th>245</th>\n",
       "      <td>How I, as a Pole see Ireland (P.S thanks for t...</td>\n",
       "      <td>1583293841</td>\n",
       "      <td>2020-03-04</td>\n",
       "      <td>2020-02-26 03:50:41</td>\n",
       "      <td>0.4404</td>\n",
       "      <td>0.72020</td>\n",
       "    </tr>\n",
       "    <tr>\n",
       "      <th>226</th>\n",
       "      <td>Cliffs of Moher</td>\n",
       "      <td>1583425827</td>\n",
       "      <td>2020-03-05</td>\n",
       "      <td>2020-02-27 16:30:27</td>\n",
       "      <td>0.0000</td>\n",
       "      <td>0.50000</td>\n",
       "    </tr>\n",
       "    <tr>\n",
       "      <th>212</th>\n",
       "      <td>Ireland's response</td>\n",
       "      <td>1583484824</td>\n",
       "      <td>2020-03-06</td>\n",
       "      <td>2020-02-28 08:53:44</td>\n",
       "      <td>0.0000</td>\n",
       "      <td>0.50000</td>\n",
       "    </tr>\n",
       "  </tbody>\n",
       "</table>\n",
       "</div>"
      ],
      "text/plain": [
       "                                                 title        time  \\\n",
       "507                                      Child labour.  1582591320   \n",
       "298                                          Very True  1582776603   \n",
       "721                           Paddys day outfit sorted  1582899684   \n",
       "5     Landlords when they have to give back a deposit.  1582999918   \n",
       "836    Me celebrating St Patrick's Day alone this year  1583072175   \n",
       "115                                         RIP Carlow  1583108544   \n",
       "717  So A Woman Has Been Banned From Participating ...  1583213094   \n",
       "245  How I, as a Pole see Ireland (P.S thanks for t...  1583293841   \n",
       "226                                    Cliffs of Moher  1583425827   \n",
       "212                                 Ireland's response  1583484824   \n",
       "\n",
       "      date_time               weeks  scores  normalised_scores  \n",
       "507  2020-02-25 2020-02-18 00:42:00  0.0000            0.50000  \n",
       "298  2020-02-27 2020-02-20 04:10:03  0.4754            0.73770  \n",
       "721  2020-02-28 2020-02-21 14:21:24  0.0000            0.50000  \n",
       "5    2020-02-29 2020-02-22 18:11:58  0.0000            0.50000  \n",
       "836  2020-03-01 2020-02-23 14:16:15  0.4019            0.70095  \n",
       "115  2020-03-02 2020-02-24 00:22:24  0.0000            0.50000  \n",
       "717  2020-03-03 2020-02-25 05:24:54 -0.6369            0.18155  \n",
       "245  2020-03-04 2020-02-26 03:50:41  0.4404            0.72020  \n",
       "226  2020-03-05 2020-02-27 16:30:27  0.0000            0.50000  \n",
       "212  2020-03-06 2020-02-28 08:53:44  0.0000            0.50000  "
      ]
     },
     "execution_count": 52,
     "metadata": {},
     "output_type": "execute_result"
    }
   ],
   "source": [
    "# Normalise the results\n",
    "df['normalised_scores'] = df['scores'].apply(lambda score: (score+1)/2)\n",
    "df.head(10)"
   ]
  },
  {
   "cell_type": "code",
   "execution_count": 98,
   "metadata": {},
   "outputs": [
    {
     "data": {
      "text/html": [
       "<div>\n",
       "<style scoped>\n",
       "    .dataframe tbody tr th:only-of-type {\n",
       "        vertical-align: middle;\n",
       "    }\n",
       "\n",
       "    .dataframe tbody tr th {\n",
       "        vertical-align: top;\n",
       "    }\n",
       "\n",
       "    .dataframe thead th {\n",
       "        text-align: right;\n",
       "    }\n",
       "</style>\n",
       "<table border=\"1\" class=\"dataframe\">\n",
       "  <thead>\n",
       "    <tr style=\"text-align: right;\">\n",
       "      <th></th>\n",
       "      <th>timestamp</th>\n",
       "      <th>scores</th>\n",
       "    </tr>\n",
       "  </thead>\n",
       "  <tbody>\n",
       "    <tr>\n",
       "      <th>0</th>\n",
       "      <td>2020-02-24</td>\n",
       "      <td>0.563750</td>\n",
       "    </tr>\n",
       "    <tr>\n",
       "      <th>1</th>\n",
       "      <td>2020-03-02</td>\n",
       "      <td>0.530107</td>\n",
       "    </tr>\n",
       "    <tr>\n",
       "      <th>2</th>\n",
       "      <td>2020-03-09</td>\n",
       "      <td>0.468543</td>\n",
       "    </tr>\n",
       "    <tr>\n",
       "      <th>3</th>\n",
       "      <td>2020-03-16</td>\n",
       "      <td>0.568221</td>\n",
       "    </tr>\n",
       "    <tr>\n",
       "      <th>4</th>\n",
       "      <td>2020-03-23</td>\n",
       "      <td>0.590329</td>\n",
       "    </tr>\n",
       "  </tbody>\n",
       "</table>\n",
       "</div>"
      ],
      "text/plain": [
       "   timestamp    scores\n",
       "0 2020-02-24  0.563750\n",
       "1 2020-03-02  0.530107\n",
       "2 2020-03-09  0.468543\n",
       "3 2020-03-16  0.568221\n",
       "4 2020-03-23  0.590329"
      ]
     },
     "execution_count": 98,
     "metadata": {},
     "output_type": "execute_result"
    }
   ],
   "source": [
    "weeks_df = df.groupby(['title', pd.Grouper(key='weeks', freq='W-MON')])['normalised_scores'].sum().reset_index().sort_values('weeks')\n",
    "\n",
    "week_dict = defaultdict(list)\n",
    "for i,x in enumerate(weeks_df.weeks):\n",
    "    week_dict[x].append(weeks_df['normalised_scores'][i])\n",
    "\n",
    "\n",
    "def average_list(arr):\n",
    "    return sum(arr)/len(arr)\n",
    "\n",
    "\n",
    "average_week_dict = {'timestamp':[],\n",
    "                     'scores':[]   \n",
    "}\n",
    "\n",
    "for k,v in week_dict.items():\n",
    "    average_week_dict['timestamp'].append(k)\n",
    "    average_week_dict['scores'].append(average_list(v))\n",
    "    \n",
    "    \n",
    "\n",
    "average_week_df = pd.DataFrame.from_dict(average_week_dict)\n",
    "average_week_df.head()"
   ]
  },
  {
   "cell_type": "code",
   "execution_count": 53,
   "metadata": {},
   "outputs": [],
   "source": [
    "df.to_csv(f'data/Sentiment_Ireland.csv')"
   ]
  },
  {
   "cell_type": "code",
   "execution_count": 100,
   "metadata": {},
   "outputs": [
    {
     "data": {
      "image/png": "[encoded data removed]",
      "text/plain": [
       "<Figure size 1152x432 with 1 Axes>"
      ]
     },
     "metadata": {
      "needs_background": "light"
     },
     "output_type": "display_data"
    }
   ],
   "source": [
    "time = average_week_df['timestamp']\n",
    "positivity = average_week_df['scores']\n",
    "\n",
    "plt.figure(figsize=(16,6))\n",
    "plt.plot(time,positivity)\n",
    "plt.title('Positivity vs Time')\n",
    "plt.xlabel('Time')\n",
    "plt.ylabel('Positivity')\n",
    "plt.show()"
   ]
  },
  {
   "cell_type": "markdown",
   "metadata": {},
   "source": [
    "### Plot the results against time "
   ]
  },
  {
   "cell_type": "code",
   "execution_count": 55,
   "metadata": {},
   "outputs": [
    {
     "data": {
      "image/png": "[encoded data removed]",
      "text/plain": [
       "<Figure size 1152x432 with 1 Axes>"
      ]
     },
     "metadata": {
      "needs_background": "light"
     },
     "output_type": "display_data"
    }
   ],
   "source": [
    "time = df['date_time']\n",
    "positivity = df['normalised_scores']\n",
    "\n",
    "plt.figure(figsize=(16,6))\n",
    "plt.plot(time,positivity)\n",
    "plt.title('Positivity vs Time')\n",
    "plt.xlabel('Time')\n",
    "plt.ylabel('Positivity')\n",
    "plt.show()"
   ]
  },
  {
   "cell_type": "markdown",
   "metadata": {},
   "source": [
    "## Topic Modelling"
   ]
  },
  {
   "cell_type": "code",
   "execution_count": 17,
   "metadata": {},
   "outputs": [
    {
     "data": {
      "text/html": [
       "<div>\n",
       "<style scoped>\n",
       "    .dataframe tbody tr th:only-of-type {\n",
       "        vertical-align: middle;\n",
       "    }\n",
       "\n",
       "    .dataframe tbody tr th {\n",
       "        vertical-align: top;\n",
       "    }\n",
       "\n",
       "    .dataframe thead th {\n",
       "        text-align: right;\n",
       "    }\n",
       "</style>\n",
       "<table border=\"1\" class=\"dataframe\">\n",
       "  <thead>\n",
       "    <tr style=\"text-align: right;\">\n",
       "      <th></th>\n",
       "      <th>title</th>\n",
       "      <th>time</th>\n",
       "    </tr>\n",
       "  </thead>\n",
       "  <tbody>\n",
       "    <tr>\n",
       "      <th>0</th>\n",
       "      <td>The President’s dog, Síoda, has passed away. R...</td>\n",
       "      <td>1600534772</td>\n",
       "    </tr>\n",
       "    <tr>\n",
       "      <th>1</th>\n",
       "      <td>Let's have a cup of tea and let this all blow ...</td>\n",
       "      <td>1610049017</td>\n",
       "    </tr>\n",
       "    <tr>\n",
       "      <th>2</th>\n",
       "      <td>Ban Americans traveling until they sort their ...</td>\n",
       "      <td>1594506848</td>\n",
       "    </tr>\n",
       "    <tr>\n",
       "      <th>3</th>\n",
       "      <td>The struggle is real: The indignity of trying ...</td>\n",
       "      <td>1594041477</td>\n",
       "    </tr>\n",
       "    <tr>\n",
       "      <th>4</th>\n",
       "      <td>Applying for mortgage in a time of gouging ren...</td>\n",
       "      <td>1597765851</td>\n",
       "    </tr>\n",
       "  </tbody>\n",
       "</table>\n",
       "</div>"
      ],
      "text/plain": [
       "                                               title        time\n",
       "0  The President’s dog, Síoda, has passed away. R...  1600534772\n",
       "1  Let's have a cup of tea and let this all blow ...  1610049017\n",
       "2  Ban Americans traveling until they sort their ...  1594506848\n",
       "3  The struggle is real: The indignity of trying ...  1594041477\n",
       "4  Applying for mortgage in a time of gouging ren...  1597765851"
      ]
     },
     "execution_count": 17,
     "metadata": {},
     "output_type": "execute_result"
    }
   ],
   "source": [
    "# Scrape the 1,000 top posts for the year\n",
    "title_1000 = scrape_year_data(reddit,limit=1000)\n",
    "\n",
    "topic_df = pd.DataFrame.from_dict(title_1000)\n",
    "topic_df.head()"
   ]
  },
  {
   "cell_type": "code",
   "execution_count": 18,
   "metadata": {},
   "outputs": [
    {
     "data": {
      "text/html": [
       "<div>\n",
       "<style scoped>\n",
       "    .dataframe tbody tr th:only-of-type {\n",
       "        vertical-align: middle;\n",
       "    }\n",
       "\n",
       "    .dataframe tbody tr th {\n",
       "        vertical-align: top;\n",
       "    }\n",
       "\n",
       "    .dataframe thead th {\n",
       "        text-align: right;\n",
       "    }\n",
       "</style>\n",
       "<table border=\"1\" class=\"dataframe\">\n",
       "  <thead>\n",
       "    <tr style=\"text-align: right;\">\n",
       "      <th></th>\n",
       "      <th>title</th>\n",
       "      <th>time</th>\n",
       "    </tr>\n",
       "  </thead>\n",
       "  <tbody>\n",
       "    <tr>\n",
       "      <th>0</th>\n",
       "      <td>The President’s dog, Síoda, has passed away. R...</td>\n",
       "      <td>1600534772</td>\n",
       "    </tr>\n",
       "    <tr>\n",
       "      <th>1</th>\n",
       "      <td>Let's have a cup of tea and let this all blow ...</td>\n",
       "      <td>1610049017</td>\n",
       "    </tr>\n",
       "    <tr>\n",
       "      <th>2</th>\n",
       "      <td>Ban Americans traveling until they sort their ...</td>\n",
       "      <td>1594506848</td>\n",
       "    </tr>\n",
       "    <tr>\n",
       "      <th>3</th>\n",
       "      <td>The struggle is real: The indignity of trying ...</td>\n",
       "      <td>1594041477</td>\n",
       "    </tr>\n",
       "    <tr>\n",
       "      <th>4</th>\n",
       "      <td>Applying for mortgage in a time of gouging ren...</td>\n",
       "      <td>1597765851</td>\n",
       "    </tr>\n",
       "  </tbody>\n",
       "</table>\n",
       "</div>"
      ],
      "text/plain": [
       "                                               title        time\n",
       "0  The President’s dog, Síoda, has passed away. R...  1600534772\n",
       "1  Let's have a cup of tea and let this all blow ...  1610049017\n",
       "2  Ban Americans traveling until they sort their ...  1594506848\n",
       "3  The struggle is real: The indignity of trying ...  1594041477\n",
       "4  Applying for mortgage in a time of gouging ren...  1597765851"
      ]
     },
     "execution_count": 18,
     "metadata": {},
     "output_type": "execute_result"
    }
   ],
   "source": [
    "topic_df.head()"
   ]
  },
  {
   "cell_type": "markdown",
   "metadata": {},
   "source": [
    "### Remove punctuation and lowercase"
   ]
  },
  {
   "cell_type": "code",
   "execution_count": 19,
   "metadata": {},
   "outputs": [
    {
     "data": {
      "text/html": [
       "<div>\n",
       "<style scoped>\n",
       "    .dataframe tbody tr th:only-of-type {\n",
       "        vertical-align: middle;\n",
       "    }\n",
       "\n",
       "    .dataframe tbody tr th {\n",
       "        vertical-align: top;\n",
       "    }\n",
       "\n",
       "    .dataframe thead th {\n",
       "        text-align: right;\n",
       "    }\n",
       "</style>\n",
       "<table border=\"1\" class=\"dataframe\">\n",
       "  <thead>\n",
       "    <tr style=\"text-align: right;\">\n",
       "      <th></th>\n",
       "      <th>title</th>\n",
       "      <th>time</th>\n",
       "      <th>title_stripped</th>\n",
       "    </tr>\n",
       "  </thead>\n",
       "  <tbody>\n",
       "    <tr>\n",
       "      <th>0</th>\n",
       "      <td>The President’s dog, Síoda, has passed away. R...</td>\n",
       "      <td>1600534772</td>\n",
       "      <td>the president’s dog síoda has passed away rip ...</td>\n",
       "    </tr>\n",
       "    <tr>\n",
       "      <th>1</th>\n",
       "      <td>Let's have a cup of tea and let this all blow ...</td>\n",
       "      <td>1610049017</td>\n",
       "      <td>lets have a cup of tea and let this all blow over</td>\n",
       "    </tr>\n",
       "    <tr>\n",
       "      <th>2</th>\n",
       "      <td>Ban Americans traveling until they sort their ...</td>\n",
       "      <td>1594506848</td>\n",
       "      <td>ban americans traveling until they sort their ...</td>\n",
       "    </tr>\n",
       "    <tr>\n",
       "      <th>3</th>\n",
       "      <td>The struggle is real: The indignity of trying ...</td>\n",
       "      <td>1594041477</td>\n",
       "      <td>the struggle is real the indignity of trying t...</td>\n",
       "    </tr>\n",
       "    <tr>\n",
       "      <th>4</th>\n",
       "      <td>Applying for mortgage in a time of gouging ren...</td>\n",
       "      <td>1597765851</td>\n",
       "      <td>applying for mortgage in a time of gouging rents</td>\n",
       "    </tr>\n",
       "  </tbody>\n",
       "</table>\n",
       "</div>"
      ],
      "text/plain": [
       "                                               title        time  \\\n",
       "0  The President’s dog, Síoda, has passed away. R...  1600534772   \n",
       "1  Let's have a cup of tea and let this all blow ...  1610049017   \n",
       "2  Ban Americans traveling until they sort their ...  1594506848   \n",
       "3  The struggle is real: The indignity of trying ...  1594041477   \n",
       "4  Applying for mortgage in a time of gouging ren...  1597765851   \n",
       "\n",
       "                                      title_stripped  \n",
       "0  the president’s dog síoda has passed away rip ...  \n",
       "1  lets have a cup of tea and let this all blow over  \n",
       "2  ban americans traveling until they sort their ...  \n",
       "3  the struggle is real the indignity of trying t...  \n",
       "4   applying for mortgage in a time of gouging rents  "
      ]
     },
     "execution_count": 19,
     "metadata": {},
     "output_type": "execute_result"
    }
   ],
   "source": [
    "table = str.maketrans('', '', string.punctuation)\n",
    "\n",
    "topic_df['title_stripped'] = topic_df['title'].apply(lambda words: \"\".join([w.translate(table) for w in words]).strip())\n",
    "topic_df['title_stripped'] = topic_df['title_stripped'].str.lower()\n",
    "topic_df.head()"
   ]
  },
  {
   "cell_type": "markdown",
   "metadata": {},
   "source": [
    "### Remove stop Words"
   ]
  },
  {
   "cell_type": "code",
   "execution_count": 21,
   "metadata": {},
   "outputs": [],
   "source": [
    "topic_df['title_no_stops'] = topic_df['title_stripped'].apply(lambda text:\" \".join(remove_stops(text)))"
   ]
  },
  {
   "cell_type": "code",
   "execution_count": 22,
   "metadata": {},
   "outputs": [
    {
     "data": {
      "text/html": [
       "<div>\n",
       "<style scoped>\n",
       "    .dataframe tbody tr th:only-of-type {\n",
       "        vertical-align: middle;\n",
       "    }\n",
       "\n",
       "    .dataframe tbody tr th {\n",
       "        vertical-align: top;\n",
       "    }\n",
       "\n",
       "    .dataframe thead th {\n",
       "        text-align: right;\n",
       "    }\n",
       "</style>\n",
       "<table border=\"1\" class=\"dataframe\">\n",
       "  <thead>\n",
       "    <tr style=\"text-align: right;\">\n",
       "      <th></th>\n",
       "      <th>title</th>\n",
       "      <th>time</th>\n",
       "      <th>title_stripped</th>\n",
       "      <th>title_no_stops</th>\n",
       "    </tr>\n",
       "  </thead>\n",
       "  <tbody>\n",
       "    <tr>\n",
       "      <th>0</th>\n",
       "      <td>The President’s dog, Síoda, has passed away. R...</td>\n",
       "      <td>1600534772</td>\n",
       "      <td>the president’s dog síoda has passed away rip ...</td>\n",
       "      <td>president ’s dog síoda passed away rip síoda</td>\n",
       "    </tr>\n",
       "    <tr>\n",
       "      <th>1</th>\n",
       "      <td>Let's have a cup of tea and let this all blow ...</td>\n",
       "      <td>1610049017</td>\n",
       "      <td>lets have a cup of tea and let this all blow over</td>\n",
       "      <td>lets cup tea let blow</td>\n",
       "    </tr>\n",
       "    <tr>\n",
       "      <th>2</th>\n",
       "      <td>Ban Americans traveling until they sort their ...</td>\n",
       "      <td>1594506848</td>\n",
       "      <td>ban americans traveling until they sort their ...</td>\n",
       "      <td>ban americans traveling sort shit</td>\n",
       "    </tr>\n",
       "    <tr>\n",
       "      <th>3</th>\n",
       "      <td>The struggle is real: The indignity of trying ...</td>\n",
       "      <td>1594041477</td>\n",
       "      <td>the struggle is real the indignity of trying t...</td>\n",
       "      <td>struggle real indignity trying follow american...</td>\n",
       "    </tr>\n",
       "    <tr>\n",
       "      <th>4</th>\n",
       "      <td>Applying for mortgage in a time of gouging ren...</td>\n",
       "      <td>1597765851</td>\n",
       "      <td>applying for mortgage in a time of gouging rents</td>\n",
       "      <td>applying mortgage time gouging rents</td>\n",
       "    </tr>\n",
       "  </tbody>\n",
       "</table>\n",
       "</div>"
      ],
      "text/plain": [
       "                                               title        time  \\\n",
       "0  The President’s dog, Síoda, has passed away. R...  1600534772   \n",
       "1  Let's have a cup of tea and let this all blow ...  1610049017   \n",
       "2  Ban Americans traveling until they sort their ...  1594506848   \n",
       "3  The struggle is real: The indignity of trying ...  1594041477   \n",
       "4  Applying for mortgage in a time of gouging ren...  1597765851   \n",
       "\n",
       "                                      title_stripped  \\\n",
       "0  the president’s dog síoda has passed away rip ...   \n",
       "1  lets have a cup of tea and let this all blow over   \n",
       "2  ban americans traveling until they sort their ...   \n",
       "3  the struggle is real the indignity of trying t...   \n",
       "4   applying for mortgage in a time of gouging rents   \n",
       "\n",
       "                                      title_no_stops  \n",
       "0       president ’s dog síoda passed away rip síoda  \n",
       "1                              lets cup tea let blow  \n",
       "2                  ban americans traveling sort shit  \n",
       "3  struggle real indignity trying follow american...  \n",
       "4               applying mortgage time gouging rents  "
      ]
     },
     "execution_count": 22,
     "metadata": {},
     "output_type": "execute_result"
    }
   ],
   "source": [
    "topic_df.head()"
   ]
  },
  {
   "cell_type": "markdown",
   "metadata": {},
   "source": [
    "### Lematize words"
   ]
  },
  {
   "cell_type": "code",
   "execution_count": 23,
   "metadata": {},
   "outputs": [],
   "source": [
    "topic_df[\"title_lemmatized\"] = topic_df['title_no_stops'].apply(lambda x: \" \".join([y.lemma_ for y in nlp(x)]))\n"
   ]
  },
  {
   "cell_type": "code",
   "execution_count": 24,
   "metadata": {},
   "outputs": [
    {
     "data": {
      "text/html": [
       "<div>\n",
       "<style scoped>\n",
       "    .dataframe tbody tr th:only-of-type {\n",
       "        vertical-align: middle;\n",
       "    }\n",
       "\n",
       "    .dataframe tbody tr th {\n",
       "        vertical-align: top;\n",
       "    }\n",
       "\n",
       "    .dataframe thead th {\n",
       "        text-align: right;\n",
       "    }\n",
       "</style>\n",
       "<table border=\"1\" class=\"dataframe\">\n",
       "  <thead>\n",
       "    <tr style=\"text-align: right;\">\n",
       "      <th></th>\n",
       "      <th>title</th>\n",
       "      <th>time</th>\n",
       "      <th>title_stripped</th>\n",
       "      <th>title_no_stops</th>\n",
       "      <th>title_lemmatized</th>\n",
       "    </tr>\n",
       "  </thead>\n",
       "  <tbody>\n",
       "    <tr>\n",
       "      <th>0</th>\n",
       "      <td>The President’s dog, Síoda, has passed away. R...</td>\n",
       "      <td>1600534772</td>\n",
       "      <td>the president’s dog síoda has passed away rip ...</td>\n",
       "      <td>president ’s dog síoda passed away rip síoda</td>\n",
       "      <td>president 's dog síoda pass away rip síoda</td>\n",
       "    </tr>\n",
       "    <tr>\n",
       "      <th>1</th>\n",
       "      <td>Let's have a cup of tea and let this all blow ...</td>\n",
       "      <td>1610049017</td>\n",
       "      <td>lets have a cup of tea and let this all blow over</td>\n",
       "      <td>lets cup tea let blow</td>\n",
       "      <td>let cup tea let blow</td>\n",
       "    </tr>\n",
       "    <tr>\n",
       "      <th>2</th>\n",
       "      <td>Ban Americans traveling until they sort their ...</td>\n",
       "      <td>1594506848</td>\n",
       "      <td>ban americans traveling until they sort their ...</td>\n",
       "      <td>ban americans traveling sort shit</td>\n",
       "      <td>ban american travel sort shit</td>\n",
       "    </tr>\n",
       "    <tr>\n",
       "      <th>3</th>\n",
       "      <td>The struggle is real: The indignity of trying ...</td>\n",
       "      <td>1594041477</td>\n",
       "      <td>the struggle is real the indignity of trying t...</td>\n",
       "      <td>struggle real indignity trying follow american...</td>\n",
       "      <td>struggle real indignity try follow american re...</td>\n",
       "    </tr>\n",
       "    <tr>\n",
       "      <th>4</th>\n",
       "      <td>Applying for mortgage in a time of gouging ren...</td>\n",
       "      <td>1597765851</td>\n",
       "      <td>applying for mortgage in a time of gouging rents</td>\n",
       "      <td>applying mortgage time gouging rents</td>\n",
       "      <td>apply mortgage time gouging rent</td>\n",
       "    </tr>\n",
       "  </tbody>\n",
       "</table>\n",
       "</div>"
      ],
      "text/plain": [
       "                                               title        time  \\\n",
       "0  The President’s dog, Síoda, has passed away. R...  1600534772   \n",
       "1  Let's have a cup of tea and let this all blow ...  1610049017   \n",
       "2  Ban Americans traveling until they sort their ...  1594506848   \n",
       "3  The struggle is real: The indignity of trying ...  1594041477   \n",
       "4  Applying for mortgage in a time of gouging ren...  1597765851   \n",
       "\n",
       "                                      title_stripped  \\\n",
       "0  the president’s dog síoda has passed away rip ...   \n",
       "1  lets have a cup of tea and let this all blow over   \n",
       "2  ban americans traveling until they sort their ...   \n",
       "3  the struggle is real the indignity of trying t...   \n",
       "4   applying for mortgage in a time of gouging rents   \n",
       "\n",
       "                                      title_no_stops  \\\n",
       "0       president ’s dog síoda passed away rip síoda   \n",
       "1                              lets cup tea let blow   \n",
       "2                  ban americans traveling sort shit   \n",
       "3  struggle real indignity trying follow american...   \n",
       "4               applying mortgage time gouging rents   \n",
       "\n",
       "                                    title_lemmatized  \n",
       "0         president 's dog síoda pass away rip síoda  \n",
       "1                               let cup tea let blow  \n",
       "2                      ban american travel sort shit  \n",
       "3  struggle real indignity try follow american re...  \n",
       "4                   apply mortgage time gouging rent  "
      ]
     },
     "execution_count": 24,
     "metadata": {},
     "output_type": "execute_result"
    }
   ],
   "source": [
    "topic_df.head()"
   ]
  },
  {
   "cell_type": "code",
   "execution_count": 25,
   "metadata": {},
   "outputs": [],
   "source": [
    "count_vectoriser = CountVectorizer(max_df=0.95, min_df=2, stop_words='english')"
   ]
  },
  {
   "cell_type": "code",
   "execution_count": 26,
   "metadata": {},
   "outputs": [],
   "source": [
    "transform = count_vectoriser.fit_transform(topic_df['title'])"
   ]
  },
  {
   "cell_type": "code",
   "execution_count": 27,
   "metadata": {},
   "outputs": [],
   "source": [
    "LDA = LatentDirichletAllocation(n_components=6,random_state=42)"
   ]
  },
  {
   "cell_type": "code",
   "execution_count": 28,
   "metadata": {},
   "outputs": [
    {
     "data": {
      "text/plain": [
       "LatentDirichletAllocation(n_components=6, random_state=42)"
      ]
     },
     "execution_count": 28,
     "metadata": {},
     "output_type": "execute_result"
    }
   ],
   "source": [
    "LDA.fit(transform)"
   ]
  },
  {
   "cell_type": "code",
   "execution_count": 29,
   "metadata": {},
   "outputs": [
    {
     "name": "stdout",
     "output_type": "stream",
     "text": [
      "THE TOP 15 WORDS FOR TOPIC #0\n",
      "['covid', '3rd', 'today', 'man', 'fucking', 'paintings', 'like', 'lock', 'people', 'day']\n",
      "\n",
      "\n",
      "THE TOP 15 WORDS FOR TOPIC #1\n",
      "['great', 'morning', 'lockdown', 'ago', 'bit', 'think', 'dog', 'work', 'leo', 'way', 'just', 'lads']\n",
      "\n",
      "\n",
      "THE TOP 15 WORDS FOR TOPIC #2\n",
      "['morning', 'news', 'credit', 'country', 'true', 'lads', 'time', 'quarantine', 'painting', 'day']\n",
      "\n",
      "\n",
      "THE TOP 15 WORDS FOR TOPIC #3\n",
      "['make', 'think', 'wee', 've', 'yesterday', 'like', '2020', 'years', 'morning', 'dublin']\n",
      "\n",
      "\n",
      "THE TOP 15 WORDS FOR TOPIC #4\n",
      "['going', 'just', 'thanks', 'post', 'days', 'old', 'good', '19', 'things', 'covid']\n",
      "\n",
      "\n",
      "THE TOP 15 WORDS FOR TOPIC #5\n",
      "['today', 'just', 'times', 'went', 've', 'week', 'thought', 'fair', 'time', 'dublin']\n",
      "\n",
      "\n"
     ]
    }
   ],
   "source": [
    "irish_set = ['irish','ireland']\n",
    "\n",
    "for index,topic in enumerate(LDA.components_):\n",
    "    print(f'THE TOP 15 WORDS FOR TOPIC #{index}')\n",
    "    print([count_vectoriser.get_feature_names()[i] for i in topic.argsort()[-12:] if count_vectoriser.get_feature_names()[i] not in irish_set])\n",
    "    print('\\n')"
   ]
  },
  {
   "cell_type": "markdown",
   "metadata": {},
   "source": [
    "## Named Entity Recognition"
   ]
  },
  {
   "cell_type": "code",
   "execution_count": null,
   "metadata": {},
   "outputs": [],
   "source": []
  },
  {
   "cell_type": "code",
   "execution_count": 30,
   "metadata": {},
   "outputs": [],
   "source": [
    "entities ={'PERSON':defaultdict(int),\n",
    "           'NORP':defaultdict(int),\n",
    "           'FAC':defaultdict(int),\n",
    "           'ORG':defaultdict(int),\n",
    "           'GPE':defaultdict(int),\n",
    "        }"
   ]
  },
  {
   "cell_type": "code",
   "execution_count": 31,
   "metadata": {},
   "outputs": [],
   "source": [
    "def find_entities(doc):\n",
    "    if doc.ents:\n",
    "        for ent in doc.ents:\n",
    "            try:\n",
    "                count = entities[ent.label_][ent.text]\n",
    "                if count >0:\n",
    "                    entities[ent.label_][ent.text] =count +1\n",
    "                else:\n",
    "                    entities[ent.label_][ent.text] =1\n",
    "                    \n",
    "            except KeyError:\n",
    "                pass\n",
    "                "
   ]
  },
  {
   "cell_type": "code",
   "execution_count": 32,
   "metadata": {},
   "outputs": [],
   "source": [
    "# obtain all of the entities in from the titles \n",
    "for doc in topic_df['title']:\n",
    "    find_entities(nlp(doc))"
   ]
  },
  {
   "cell_type": "code",
   "execution_count": 33,
   "metadata": {},
   "outputs": [],
   "source": [
    "popular_entities = defaultdict(list)"
   ]
  },
  {
   "cell_type": "code",
   "execution_count": 34,
   "metadata": {},
   "outputs": [],
   "source": [
    "for key in entities.keys():\n",
    "    popular =sorted(entities[key].items(),key=lambda x:x[1],reverse=True)[:5]\n",
    "    popular_entities[key]=(popular)"
   ]
  },
  {
   "cell_type": "code",
   "execution_count": 35,
   "metadata": {},
   "outputs": [
    {
     "data": {
      "text/plain": [
       "defaultdict(list,\n",
       "            {'PERSON': [('Cork', 5),\n",
       "              ('Coronavirus', 4),\n",
       "              ('Joe Biden', 3),\n",
       "              ('Zoom', 2),\n",
       "              ('Saw', 2)],\n",
       "             'NORP': [('Irish', 61),\n",
       "              ('British', 7),\n",
       "              ('American', 4),\n",
       "              ('French', 2),\n",
       "              ('Beamish', 2)],\n",
       "             'FAC': [('Donegal Airport', 2),\n",
       "              ('the French Embassy', 1),\n",
       "              ('Dublin House', 1),\n",
       "              ('the Croke Park Massacre', 1),\n",
       "              ('Gaeltacht', 1)],\n",
       "             'ORG': [('RTE', 4),\n",
       "              ('Guinness', 4),\n",
       "              ('Síoda', 3),\n",
       "              ('the Irish Times', 3),\n",
       "              ('Wexford Corporation', 3)],\n",
       "             'GPE': [('Ireland', 74),\n",
       "              ('Dublin', 28),\n",
       "              ('Canada', 3),\n",
       "              ('Derry', 3),\n",
       "              ('US', 3)]})"
      ]
     },
     "execution_count": 35,
     "metadata": {},
     "output_type": "execute_result"
    }
   ],
   "source": [
    "popular_entities"
   ]
  },
  {
   "cell_type": "code",
   "execution_count": 36,
   "metadata": {},
   "outputs": [
    {
     "data": {
      "image/png": "[encoded data removed]",
      "text/plain": [
       "<Figure size 432x288 with 1 Axes>"
      ]
     },
     "metadata": {
      "needs_background": "light"
     },
     "output_type": "display_data"
    },
    {
     "data": {
      "image/png": "[encoded data removed]",
      "text/plain": [
       "<Figure size 432x288 with 1 Axes>"
      ]
     },
     "metadata": {
      "needs_background": "light"
     },
     "output_type": "display_data"
    },
    {
     "data": {
      "image/png": "[encoded data removed]",
      "text/plain": [
       "<Figure size 432x288 with 1 Axes>"
      ]
     },
     "metadata": {
      "needs_background": "light"
     },
     "output_type": "display_data"
    },
    {
     "data": {
      "image/png": "[encoded data removed]",
      "text/plain": [
       "<Figure size 432x288 with 1 Axes>"
      ]
     },
     "metadata": {
      "needs_background": "light"
     },
     "output_type": "display_data"
    },
    {
     "data": {
      "image/png": "[encoded data removed]",
      "text/plain": [
       "<Figure size 432x288 with 1 Axes>"
      ]
     },
     "metadata": {
      "needs_background": "light"
     },
     "output_type": "display_data"
    }
   ],
   "source": [
    "for key in popular_entities.keys():\n",
    "    \n",
    "    entity = [x[0] for x in popular_entities[key]]\n",
    "    count = [x[1] for x in popular_entities[key]]\n",
    "\n",
    "    fig = plt.figure()\n",
    "    ax = fig.add_axes([0,0,1,1])\n",
    "    ax.bar(entity,count)\n",
    "    plt.title(key)\n",
    "    plt.xlabel('Entities')\n",
    "    plt.ylabel('Popularity')\n",
    "    plt.show()\n",
    "\n"
   ]
  },
  {
   "cell_type": "code",
   "execution_count": null,
   "metadata": {},
   "outputs": [],
   "source": []
  },
  {
   "cell_type": "code",
   "execution_count": null,
   "metadata": {},
   "outputs": [],
   "source": []
  }
 ],
 "metadata": {
  "kernelspec": {
   "display_name": "Python 3",
   "language": "python",
   "name": "python3"
  },
  "language_info": {
   "codemirror_mode": {
    "name": "ipython",
    "version": 3
   },
   "file_extension": ".py",
   "mimetype": "text/x-python",
   "name": "python",
   "nbconvert_exporter": "python",
   "pygments_lexer": "ipython3",
   "version": "3.7.9"
  }
 },
 "nbformat": 4,
 "nbformat_minor": 4
}
